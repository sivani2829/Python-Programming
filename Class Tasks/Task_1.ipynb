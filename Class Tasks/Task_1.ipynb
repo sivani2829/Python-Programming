{
 "cells": [
  {
   "cell_type": "markdown",
   "id": "5d320628",
   "metadata": {},
   "source": [
    "s=\"this is My First Python Programing class and i am learNING python string and its functions \"\n",
    "1.Try to Extract data from index one to index 300 with a jump of 3"
   ]
  },
  {
   "cell_type": "code",
   "execution_count": 1,
   "id": "f7c85b05",
   "metadata": {},
   "outputs": [
    {
     "name": "stdout",
     "output_type": "stream",
     "text": [
      "h   r tnrri a d  aI tntna sutn\n"
     ]
    }
   ],
   "source": [
    "s=\"this is My First Python Programing class and i am learNING python string and its functions \"\n",
    "print(s[1:300:3])"
   ]
  },
  {
   "cell_type": "markdown",
   "id": "f756c613",
   "metadata": {},
   "source": [
    "2.Try to reverse a string without using reverse function\n"
   ]
  },
  {
   "cell_type": "code",
   "execution_count": 2,
   "id": "e54d38c2",
   "metadata": {},
   "outputs": [
    {
     "name": "stdout",
     "output_type": "stream",
     "text": [
      " snoitcnuf sti dna gnirts nohtyp GNINrael ma i dna ssalc gnimargorP nohtyP tsriF yM si siht\n"
     ]
    }
   ],
   "source": [
    "print(s[::-1])"
   ]
  },
  {
   "cell_type": "markdown",
   "id": "2d2932ef",
   "metadata": {},
   "source": [
    "3.Try to split a string after conversion of entire string in uppercase "
   ]
  },
  {
   "cell_type": "code",
   "execution_count": 3,
   "id": "767509ce",
   "metadata": {},
   "outputs": [
    {
     "name": "stdout",
     "output_type": "stream",
     "text": [
      "['THIS', 'IS', 'MY', 'FIRST', 'PYTHON', 'PROGRAMING', 'CLASS', 'AND', 'I', 'AM', 'LEARNING', 'PYTHON', 'STRING', 'AND', 'ITS', 'FUNCTIONS']\n"
     ]
    }
   ],
   "source": [
    "s=s.upper()\n",
    "print(s.split())"
   ]
  },
  {
   "cell_type": "markdown",
   "id": "5e7f42e2",
   "metadata": {},
   "source": [
    "4.Try to convert the whole string into lower case"
   ]
  },
  {
   "cell_type": "code",
   "execution_count": 4,
   "id": "9ebb8f5c",
   "metadata": {},
   "outputs": [
    {
     "name": "stdout",
     "output_type": "stream",
     "text": [
      "this is my first python programing class and i am learning python string and its functions \n"
     ]
    }
   ],
   "source": [
    "print(s.lower())"
   ]
  },
  {
   "cell_type": "markdown",
   "id": "fc59b862",
   "metadata": {},
   "source": [
    "5.Try to capitalize the whole string"
   ]
  },
  {
   "cell_type": "code",
   "execution_count": 5,
   "id": "50271273",
   "metadata": {},
   "outputs": [
    {
     "name": "stdout",
     "output_type": "stream",
     "text": [
      "This is my first python programing class and i am learning python string and its functions \n"
     ]
    }
   ],
   "source": [
    "print(s.capitalize())"
   ]
  },
  {
   "cell_type": "markdown",
   "id": "d98fd9e7",
   "metadata": {},
   "source": [
    "6.Write a difference between isalnum() and isalpha()"
   ]
  },
  {
   "cell_type": "markdown",
   "id": "72e78323",
   "metadata": {},
   "source": [
    "isalnum() return True if string contain all the characters are numbers or alphabet.\n",
    "isalnum() doesn't allow special characters.\n",
    "isalpha() return True if string contain all the characters are alphabet."
   ]
  },
  {
   "cell_type": "code",
   "execution_count": 6,
   "id": "bb3c05c4",
   "metadata": {},
   "outputs": [
    {
     "name": "stdout",
     "output_type": "stream",
     "text": [
      "True\n"
     ]
    }
   ],
   "source": [
    "a=\"Jayanthi123\"\n",
    "print(a.isalnum())"
   ]
  },
  {
   "cell_type": "code",
   "execution_count": 7,
   "id": "4032d14f",
   "metadata": {},
   "outputs": [
    {
     "name": "stdout",
     "output_type": "stream",
     "text": [
      "False\n"
     ]
    }
   ],
   "source": [
    "a=\"Jayanthi 123\"\n",
    "print(a.isalnum())"
   ]
  },
  {
   "cell_type": "code",
   "execution_count": 8,
   "id": "8b72999a",
   "metadata": {},
   "outputs": [
    {
     "name": "stdout",
     "output_type": "stream",
     "text": [
      "True\n"
     ]
    }
   ],
   "source": [
    "a=\"123\"\n",
    "print(a.isalnum())"
   ]
  },
  {
   "cell_type": "code",
   "execution_count": 9,
   "id": "a02579bd",
   "metadata": {},
   "outputs": [
    {
     "name": "stdout",
     "output_type": "stream",
     "text": [
      "True\n"
     ]
    }
   ],
   "source": [
    "a=\"Jayanthi\"\n",
    "print(a.isalnum())"
   ]
  },
  {
   "cell_type": "code",
   "execution_count": 10,
   "id": "9ffb0356",
   "metadata": {},
   "outputs": [
    {
     "name": "stdout",
     "output_type": "stream",
     "text": [
      "False\n"
     ]
    }
   ],
   "source": [
    "a=\"Jayanthi123\"\n",
    "print(a.isalpha())"
   ]
  },
  {
   "cell_type": "code",
   "execution_count": 11,
   "id": "b185e99e",
   "metadata": {},
   "outputs": [
    {
     "name": "stdout",
     "output_type": "stream",
     "text": [
      "True\n"
     ]
    }
   ],
   "source": [
    "a=\"Jayanthi\"\n",
    "print(a.isalnum())"
   ]
  },
  {
   "cell_type": "markdown",
   "id": "ba6f5002",
   "metadata": {},
   "source": [
    "7.Try to give an example of expandtab()"
   ]
  },
  {
   "cell_type": "markdown",
   "id": "7c39ff9e",
   "metadata": {},
   "source": [
    "The expandtabs() sets the tab size to the specified number of whitespaces.\n"
   ]
  },
  {
   "cell_type": "code",
   "execution_count": 14,
   "id": "c44919e4",
   "metadata": {},
   "outputs": [
    {
     "name": "stdout",
     "output_type": "stream",
     "text": [
      "j       a       y       a       n       t       h       i       \n",
      "j a y a n t h i \n",
      "j    a    y    a    n    t    h    i    \n",
      "j      a      y      a      n      t      h      i      \n"
     ]
    }
   ],
   "source": [
    "s=\"j\\ta\\ty\\ta\\tn\\tt\\th\\ti\\t\"\n",
    "print(s.expandtabs())\n",
    "print(s.expandtabs(2))\n",
    "print(s.expandtabs(5))\n",
    "print(s.expandtabs(7))"
   ]
  },
  {
   "cell_type": "markdown",
   "id": "b072e472",
   "metadata": {},
   "source": [
    "8.Give an example of strip,lstrip and rstrip."
   ]
  },
  {
   "cell_type": "markdown",
   "id": "8910f4e6",
   "metadata": {},
   "source": [
    "strip() removes the trailing and leading edges of whitespaces.\n",
    "lstrip() removes the spaces in left side of a string.\n",
    "rstrip() removes the right spaces in the given string."
   ]
  },
  {
   "cell_type": "code",
   "execution_count": 15,
   "id": "8180c5b0",
   "metadata": {},
   "outputs": [
    {
     "name": "stdout",
     "output_type": "stream",
     "text": [
      "am good girl\n"
     ]
    }
   ],
   "source": [
    "s= \"   am good girl  \"\n",
    "print(s.strip())"
   ]
  },
  {
   "cell_type": "code",
   "execution_count": 16,
   "id": "e2bee964",
   "metadata": {},
   "outputs": [
    {
     "name": "stdout",
     "output_type": "stream",
     "text": [
      "am good girl  \n"
     ]
    }
   ],
   "source": [
    "print(s.lstrip())"
   ]
  },
  {
   "cell_type": "code",
   "execution_count": 18,
   "id": "d9dea459",
   "metadata": {},
   "outputs": [
    {
     "name": "stdout",
     "output_type": "stream",
     "text": [
      "   am good girl\n"
     ]
    }
   ],
   "source": [
    "print(s.rstrip())"
   ]
  },
  {
   "cell_type": "markdown",
   "id": "c781a4b1",
   "metadata": {},
   "source": [
    "9.Replace a string character by another character by taking your own example?"
   ]
  },
  {
   "cell_type": "code",
   "execution_count": 19,
   "id": "5f69414b",
   "metadata": {},
   "outputs": [
    {
     "name": "stdout",
     "output_type": "stream",
     "text": [
      "JAyAnthi\n"
     ]
    }
   ],
   "source": [
    "s=\"Jayanthi\"\n",
    "print(s.replace(\"a\",\"A\"))"
   ]
  },
  {
   "cell_type": "markdown",
   "id": "6b93bd59",
   "metadata": {},
   "source": [
    "10.Try to give a defination of string center  function with an example?"
   ]
  },
  {
   "cell_type": "markdown",
   "id": "897cc928",
   "metadata": {},
   "source": [
    "The center() method will center align the string, using a specified character (space is default) as the fill character.\n",
    "\n"
   ]
  },
  {
   "cell_type": "code",
   "execution_count": 21,
   "id": "e00dcecb",
   "metadata": {},
   "outputs": [
    {
     "name": "stdout",
     "output_type": "stream",
     "text": [
      "****Jyanthi****\n"
     ]
    }
   ],
   "source": [
    "s=\"Jyanthi\"\n",
    "print(s.center(15,\"*\"))"
   ]
  },
  {
   "cell_type": "code",
   "execution_count": 22,
   "id": "8f74d3eb",
   "metadata": {},
   "outputs": [
    {
     "name": "stdout",
     "output_type": "stream",
     "text": [
      "----Jyanthi----\n"
     ]
    }
   ],
   "source": [
    "print(s.center(15,\"-\"))"
   ]
  },
  {
   "cell_type": "code",
   "execution_count": 23,
   "id": "582e3b36",
   "metadata": {},
   "outputs": [
    {
     "name": "stdout",
     "output_type": "stream",
     "text": [
      "    Jyanthi    \n"
     ]
    }
   ],
   "source": [
    "print(s.center(15))"
   ]
  },
  {
   "cell_type": "markdown",
   "id": "706e71a2",
   "metadata": {},
   "source": [
    "11.Write your own definition of compiler and interpretor without copy and paste from internet in your language."
   ]
  },
  {
   "cell_type": "markdown",
   "id": "738ee350",
   "metadata": {},
   "source": [
    "compiler Language:\n",
    "1.compiler language is  a source code is directly translated to machine code with the help of compiler.\n",
    "2.whole source code is comppiled at a time during the excution of code.\n",
    "3.There is a intermediate state during the processes of converion between the source code and machine code .That intermediate stage states that  sorce  code is convert to byte code and object code(processing the data)then it converts to the machine code.\n",
    "Interpreted Language:\n",
    "1.Interpreted Language is interpret the source code in line by line and convert to the machine code.\n",
    "2.Each and every line of a code is interpreted and excuted untill the code ends.\n",
    "3.It takes lot of time to processes whole data\n",
    "3.It slower than the compiler language.\n"
   ]
  },
  {
   "cell_type": "markdown",
   "id": "11d06319",
   "metadata": {},
   "source": [
    "12.Python is a interpreted of compiled Language give a clear answer with your Understanding.\n"
   ]
  },
  {
   "cell_type": "markdown",
   "id": "1799c68d",
   "metadata": {},
   "source": [
    "Python is a interpreted compiled Language bacause it interpretes and compile the code .it's just like interprets and produce the machine code with help of compiler.the compiler is  so called virtual machine.during the compilation, source code is converted to byte code and object code which is processed the virtual machine,then after it converts to the machine code.\n",
    "Therefore pyhthon is called as both compiled and interpretd Language."
   ]
  }
 ],
 "metadata": {
  "kernelspec": {
   "display_name": "Python 3 (ipykernel)",
   "language": "python",
   "name": "python3"
  },
  "language_info": {
   "codemirror_mode": {
    "name": "ipython",
    "version": 3
   },
   "file_extension": ".py",
   "mimetype": "text/x-python",
   "name": "python",
   "nbconvert_exporter": "python",
   "pygments_lexer": "ipython3",
   "version": "3.9.12"
  }
 },
 "nbformat": 4,
 "nbformat_minor": 5
}
